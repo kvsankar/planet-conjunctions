{
 "cells": [
  {
   "cell_type": "code",
   "execution_count": 1,
   "metadata": {},
   "outputs": [],
   "source": [
    "from datetime import timedelta\n",
    "import scipy.optimize\n",
    "from skyfield.api import load\n",
    "import numpy as np\n",
    "import pandas as pd\n",
    "from tqdm import tqdm\n"
   ]
  },
  {
   "cell_type": "code",
   "execution_count": 18,
   "metadata": {},
   "outputs": [],
   "source": [
    "# constants\n",
    "\n",
    "pi_degrees = 180.0\n",
    "tau_degrees = 360.0\n",
    "\n",
    "# configuration values of interest\n",
    "\n",
    "planet_names_of_interest = ['sun', 'mercury', 'venus', 'mars', 'jupiter', 'saturn']\n",
    "conjunction_span_degrees = 45\n",
    "search_interval_days = 1\n",
    "\n",
    "pd.set_option('display.max_columns', 100) \n",
    "pd.set_option('display.max_rows', 20000)\n",
    "pd.set_option('display.width', 400)\n",
    "pd.set_option('display.max_colwidth', 200)"
   ]
  },
  {
   "cell_type": "code",
   "execution_count": 3,
   "metadata": {},
   "outputs": [],
   "source": [
    "eph = load('de422.bsp')\n",
    "\n",
    "planets = {\n",
    "        'sun': eph['sun'],\n",
    "        'mercury': eph['mercury'],\n",
    "        'venus': eph['venus'],\n",
    "        'earth': eph['earth'],\n",
    "        'moon': eph['moon'],\n",
    "        'mars': eph['mars'],\n",
    "        'jupiter': eph['jupiter barycenter'],\n",
    "        'saturn': eph['saturn barycenter'],\n",
    "        'uranus': eph['uranus barycenter'],\n",
    "        'neptune': eph['neptune barycenter'],\n",
    "        'pluto': eph['pluto barycenter'] }\n",
    "\n",
    "earth = planets['earth']"
   ]
  },
  {
   "cell_type": "code",
   "execution_count": 4,
   "metadata": {},
   "outputs": [],
   "source": [
    "def angle_span(angles):\n",
    "    sorted_angles = np.sort(angles)\n",
    "    sorted_angles_shift_left = np.roll(sorted_angles, -1)\n",
    "    sorted_angles_diff = sorted_angles_shift_left - sorted_angles\n",
    "    sorted_angles_diff[-1] += tau_degrees \n",
    "    sorted_angles_diff = list(map(lambda x: tau_degrees - x if (x > pi_degrees) else x, sorted_angles_diff))\n",
    "    max_angle = max(sorted_angles_diff)\n",
    "    return max_angle\n",
    "    \n",
    "def in_conjunction(angles):\n",
    "    span = angle_span(angles.values)\n",
    "    return (True, span) if (span < conjunction_span_degrees) else (False, span)\n"
   ]
  },
  {
   "cell_type": "code",
   "execution_count": 5,
   "metadata": {},
   "outputs": [],
   "source": [
    "ts = load.timescale(builtin=True)\n",
    "t = ts.utc(1600, 1, range(0, 500*366, search_interval_days), 0, 0, 0)"
   ]
  },
  {
   "cell_type": "code",
   "execution_count": 6,
   "metadata": {},
   "outputs": [
    {
     "data": {
      "text/plain": [
       "<Time tt=[2305446.5004882407 ... 2488445.500800741] len=183000>"
      ]
     },
     "execution_count": 6,
     "metadata": {},
     "output_type": "execute_result"
    }
   ],
   "source": [
    "t"
   ]
  },
  {
   "cell_type": "code",
   "execution_count": 9,
   "metadata": {},
   "outputs": [],
   "source": [
    "df = pd.DataFrame(index=t.utc_datetime(), columns=planet_names_of_interest + ['label'])"
   ]
  },
  {
   "cell_type": "code",
   "execution_count": 10,
   "metadata": {},
   "outputs": [
    {
     "name": "stdout",
     "output_type": "stream",
     "text": [
      "Computing coordinates of sun\n",
      "Computing coordinates of mercury\n",
      "Computing coordinates of venus\n",
      "Computing coordinates of mars\n",
      "Computing coordinates of jupiter\n",
      "Computing coordinates of saturn\n"
     ]
    }
   ],
   "source": [
    "for pn in planet_names_of_interest: \n",
    "    print(\"Computing coordinates of {}\".format(pn))\n",
    "    observer = earth.at(t)\n",
    "    planet = planets[pn]\n",
    "    lat, lon, distance = observer.observe(planet).ecliptic_latlon()\n",
    "    df.loc[:, pn] = lon.degrees"
   ]
  },
  {
   "cell_type": "code",
   "execution_count": 11,
   "metadata": {},
   "outputs": [
    {
     "name": "stderr",
     "output_type": "stream",
     "text": [
      "\r",
      "  0%|          | 0/183000 [00:00<?, ?it/s]"
     ]
    },
    {
     "name": "stdout",
     "output_type": "stream",
     "text": [
      "Calculating conjunctions...\n"
     ]
    },
    {
     "name": "stderr",
     "output_type": "stream",
     "text": [
      "100%|██████████| 183000/183000 [08:33<00:00, 356.45it/s]\n"
     ]
    }
   ],
   "source": [
    "print(\"Calculating conjunctions...\")\n",
    "\n",
    "for index, row in tqdm(df.iterrows(), total=df.shape[0]):\n",
    "    values = row[planet_names_of_interest]\n",
    "    result, span = in_conjunction(values)\n",
    "    df.at[index, 'span_degrees'] = span \n",
    "    df.at[index, 'in_conjunction'] = result"
   ]
  },
  {
   "cell_type": "code",
   "execution_count": 12,
   "metadata": {},
   "outputs": [],
   "source": [
    "# In Conjunction Now              [False  False  True  True  True  False False]\n",
    "# In Conjunction Earlier                 [False  False True  True  True  False  False]\n",
    "# In Conjunction Later     [False  False  True   True  True  False False]\n",
    "# Conjuction Start                [False  False  True  False False False]\n",
    "# Conjuction End                  [False  False  False False True  False]\n",
    "\n",
    "now_but_not_earlier = np.append([0], df['in_conjunction'].values[1:] & np.invert(df['in_conjunction'].values[:-1]))\n",
    "now_but_not_later   = np.append(df['in_conjunction'].values[:-1] & np.invert(df['in_conjunction'].values[1:]), [0])\n",
    "\n",
    "df.loc[:, 'conjunction_start'] = False \n",
    "df.loc[:, 'conjunction_end'] = False \n",
    "\n",
    "df.loc[now_but_not_earlier.astype(bool), 'conjunction_start'] = True \n",
    "df.loc[now_but_not_later.astype(bool),   'conjunction_end'] = True \n",
    "\n",
    "df.at[:, 'label'] = ''\n",
    "df.loc[now_but_not_earlier.astype(bool), 'label'] += ['Start']\n",
    "df.loc[now_but_not_later.astype(bool),   'label'] += ['End']\n"
   ]
  },
  {
   "cell_type": "code",
   "execution_count": 13,
   "metadata": {},
   "outputs": [
    {
     "name": "stderr",
     "output_type": "stream",
     "text": [
      "\r",
      "  0%|          | 0/183000 [00:00<?, ?it/s]"
     ]
    },
    {
     "name": "stdout",
     "output_type": "stream",
     "text": [
      "Calulting exact times...\n"
     ]
    },
    {
     "name": "stderr",
     "output_type": "stream",
     "text": [
      "100%|██████████| 183000/183000 [01:21<00:00, 2232.14it/s]\n"
     ]
    }
   ],
   "source": [
    "print(\"Calulting exact times...\")\n",
    "\n",
    "def f(jd):\n",
    "    t = ts.tt(jd=jd)\n",
    "    observer = earth.at(t)\n",
    "    angles = []\n",
    "    for pn in planet_names_of_interest: \n",
    "        planet = planets[pn]\n",
    "        lat, lon, distance = observer.observe(planet).ecliptic_latlon()\n",
    "        angles += [lon.degrees]\n",
    "    return angle_span(angles) - conjunction_span_degrees\n",
    "    \n",
    "for index, row in tqdm(df.iterrows(), total=df.shape[0]):\n",
    "    if (row['conjunction_start']):\n",
    "        t1_utc = index\n",
    "        t0_utc = index - timedelta(days=search_interval_days)\n",
    "\n",
    "        t0 = ts.from_datetime(t0_utc)\n",
    "        t1 = ts.from_datetime(t1_utc)\n",
    "\n",
    "        jd_conjunction = scipy.optimize.brentq(f, t0.tt, t1.tt)\n",
    "        df.at[index, 'start_time'] = ts.tt(jd=jd_conjunction).utc_jpl()\n",
    "\n",
    "    if (row['conjunction_end']):\n",
    "        t0_utc = index\n",
    "        t1_utc = index + timedelta(days=search_interval_days)\n",
    "\n",
    "        t0 = ts.from_datetime(t0_utc)\n",
    "        t1 = ts.from_datetime(t1_utc)\n",
    "\n",
    "        jd_conjunction = scipy.optimize.brentq(f, t0.tt, t1.tt)\n",
    "        df.at[index, 'end_time'] = ts.tt(jd=jd_conjunction).utc_jpl()"
   ]
  },
  {
   "cell_type": "code",
   "execution_count": 19,
   "metadata": {},
   "outputs": [
    {
     "name": "stdout",
     "output_type": "stream",
     "text": [
      "                                  sun     mercury       venus        mars     jupiter      saturn  label                         start_time                           end_time\n",
      "1602-10-17 00:00:00+00:00  208.919908  208.105226  248.433165  252.990376  216.144312  236.577336  Start  A.D. 1602-Oct-16 21:05:13.7824 UT                                NaN\n",
      "1602-10-30 00:00:00+00:00  221.913573  229.146436  263.825269  262.587801  218.992014  238.041906    End                                NaN  A.D. 1602-Oct-30 04:10:50.3345 UT\n",
      "1624-07-27 00:00:00+00:00  129.390750  125.714842  113.873057  136.525042  158.352808  145.177166  Start  A.D. 1624-Jul-26 11:47:19.0639 UT                                NaN\n",
      "1624-09-22 00:00:00+00:00  184.557525  196.558865  184.410386  172.848890  170.489876  152.261766    End                                NaN  A.D. 1624-Sep-22 11:15:14.6974 UT\n",
      "1626-09-08 00:00:00+00:00  170.359384  194.894747  203.002381  175.502347  214.746049  173.646540  Start  A.D. 1626-Sep-07 05:22:06.6838 UT                                NaN\n",
      "1626-09-22 00:00:00+00:00  184.049257  209.727212  219.855075  184.571327  217.434134  175.391712    End                                NaN  A.D. 1626-Sep-22 11:58:04.9808 UT\n",
      "1662-11-06 00:00:00+00:00  228.562126  247.582552  205.224841  244.077397  236.978071  249.579826  Start  A.D. 1662-Nov-05 10:20:27.9984 UT                                NaN\n",
      "1663-01-11 00:00:00+00:00  295.605469  276.772486  288.032629  293.777176  251.085418  257.080583    End                                NaN  A.D. 1663-Jan-11 13:52:25.9927 UT\n",
      "1664-12-11 00:00:00+00:00  264.499077  251.492839  287.211636  285.740381  295.369751  273.650474  Start  A.D. 1664-Dec-10 03:11:06.3605 UT                                NaN\n",
      "1665-01-07 00:00:00+00:00  292.017802  294.084676  320.786309  306.851336  301.532128  276.809520    End                                NaN  A.D. 1665-Jan-07 21:52:05.1795 UT\n",
      "1680-06-10 00:00:00+00:00   84.218358   61.810069   60.524089   58.985039   64.353293  103.484503  Start  A.D. 1680-Jun-09 03:38:05.9809 UT                                NaN\n",
      "1680-07-13 00:00:00+00:00  115.684013  116.067024  100.636325   82.046282   71.439808  107.743529    End                                NaN  A.D. 1680-Jul-13 04:37:59.4851 UT\n",
      "1682-06-29 00:00:00+00:00  101.837574  120.373799  120.341607   85.789367  120.424828  130.327270  Start  A.D. 1682-Jun-28 04:16:53.1085 UT                                NaN\n",
      "1682-07-11 00:00:00+00:00  113.281068  138.738045  134.991505   93.896810  123.042480  131.786704    End                                NaN  A.D. 1682-Jul-11 05:59:00.9730 UT\n",
      "1684-08-25 00:00:00+00:00  156.909518  158.198349  175.731192  136.090982  180.759727  161.129542  Start  A.D. 1684-Aug-24 05:32:43.1509 UT                                NaN\n",
      "1684-09-14 00:00:00+00:00  176.350444  192.960195  164.906580  148.747795  184.982492  163.642652    End                                NaN  A.D. 1684-Sep-14 20:33:11.9887 UT\n",
      "1720-10-12 00:00:00+00:00  202.710191  192.747407  214.944550  192.769648  200.470938  237.289251  Start  A.D. 1720-Oct-11 17:12:48.0999 UT                                NaN\n",
      "1720-11-10 00:00:00+00:00  231.711578  240.286110  251.107772  211.932571  206.662145  240.548444    End                                NaN  A.D. 1720-Nov-10 12:47:35.9507 UT\n",
      "1723-01-15 00:00:00+00:00  298.262502  289.504338  313.106407  271.811160  269.225419  268.223908  Start  A.D. 1723-Jan-14 18:54:50.9115 UT                                NaN\n",
      "1723-01-30 00:00:00+00:00  313.506759  314.474644  304.479823  282.952860  272.319449  269.749420    End                                NaN  A.D. 1723-Jan-30 03:59:25.3503 UT\n",
      "1725-02-02 00:00:00+00:00  317.041707  326.640473  283.119138  301.316740  325.952495  290.369113  Start  A.D. 1725-Feb-01 05:22:36.8698 UT                                NaN\n",
      "1725-02-22 00:00:00+00:00  337.235608  313.262186  307.678065  316.899687  330.755681  292.425377    End                                NaN  A.D. 1725-Feb-22 05:00:11.4605 UT\n",
      "1761-02-22 00:00:00+00:00  336.995846  335.342469   20.243204  352.442371  341.926203    1.434644  Start  A.D. 1761-Feb-21 20:35:32.6972 UT                                NaN\n",
      "1761-03-01 00:00:00+00:00  344.020148  348.581977   28.160036  357.893168  343.618916    2.266977    End                                NaN  A.D. 1761-Mar-01 12:33:40.1842 UT\n",
      "1803-08-30 00:00:00+00:00  158.366376  170.710942  146.260024  188.534011  190.244218  174.358519  Start  A.D. 1803-Aug-29 00:30:04.4977 UT                                NaN\n",
      "1803-10-24 00:00:00+00:00  212.384190  213.534551  214.803903  225.506014  201.906339  181.048569    End                                NaN  A.D. 1803-Oct-24 22:13:51.9435 UT\n",
      "1821-03-09 00:00:00+00:00  350.634964    8.837551  331.321914  338.009612    4.397060   15.462934  Start  A.D. 1821-Mar-08 05:37:30.2635 UT                                NaN\n",
      "1821-05-25 00:00:00+00:00   65.901536   59.101947   66.397648   37.297503   22.320059   24.761355    End                                NaN  A.D. 1821-May-25 21:37:21.5303 UT\n",
      "1823-04-22 00:00:00+00:00   33.514372   25.300782   62.074267   27.500623   70.241952   44.222399  Start  A.D. 1823-Apr-21 23:12:53.5669 UT                                NaN\n",
      "1823-05-14 00:00:00+00:00   54.828261   70.944572   88.465215   43.866335   75.024162   47.040471    End                                NaN  A.D. 1823-May-14 21:11:58.7497 UT\n",
      "1859-07-12 00:00:00+00:00  111.039676  130.350864   90.128841  113.971431   99.224512  134.304742  Start  A.D. 1859-Jul-11 05:53:37.6353 UT                                NaN\n",
      "1859-07-22 00:00:00+00:00  120.578597  145.665398  102.293537  120.441228  101.452228  135.540782    End                                NaN  A.D. 1859-Jul-22 16:41:49.2373 UT\n",
      "1861-07-15 00:00:00+00:00  114.360403  126.757420  131.806543  128.362473  149.715616  158.624743  Start  A.D. 1861-Jul-14 03:17:14.2168 UT                                NaN\n",
      "1861-09-15 00:00:00+00:00  174.040111  182.512532  207.270201  167.807783  162.824146  166.000875    End                                NaN  A.D. 1861-Sep-15 13:24:50.5426 UT\n",
      "1863-09-04 00:00:00+00:00  162.842923  186.795071  194.714241  172.358917  207.778273  187.100464  Start  A.D. 1863-Sep-03 22:01:48.9920 UT                                NaN\n",
      "1863-11-19 00:00:00+00:00  238.101775  230.717201  193.131018  222.579303  223.687605  196.057369    End                                NaN  A.D. 1863-Nov-19 03:25:14.6632 UT\n",
      "1899-10-30 00:00:00+00:00  217.761633  235.055169  229.116854  238.348199  229.007850  262.064247  Start  A.D. 1899-Oct-29 05:30:45.6897 UT                                NaN\n",
      "1899-12-12 00:00:00+00:00  261.182179  248.679674  282.854726  270.003898  238.432481  266.762686    End                                NaN  A.D. 1899-Dec-12 13:23:34.6218 UT\n",
      "1902-01-01 00:00:00+00:00  281.025126  280.285397  324.911572  300.590314  292.762445  289.070260  Start  A.D. 1901-Dec-31 13:52:14.9720 UT                                NaN\n",
      "1902-02-19 00:00:00+00:00  330.795959  330.586884  324.242166  339.273267  304.134264  294.662602    End                                NaN  A.D. 1902-Feb-19 13:37:21.3468 UT\n",
      "1919-09-08 00:00:00+00:00  165.417041  149.274565  173.461363  131.155386  128.898993  154.464954  Start  A.D. 1919-Sep-07 10:07:05.1302 UT                                NaN\n",
      "1919-09-18 00:00:00+00:00  175.149445  167.038423  167.436188  137.442098  130.826687  155.704434    End                                NaN  A.D. 1919-Sep-18 20:34:16.2783 UT\n",
      "1921-10-30 00:00:00+00:00  217.127234  220.425310  192.565407  176.368066  188.292062  183.704598  Start  A.D. 1921-Oct-29 11:56:24.9834 UT                                NaN\n",
      "1921-11-09 00:00:00+00:00  227.152889  211.523782  205.004497  182.521703  190.269591  184.771252    End                                NaN  A.D. 1921-Nov-09 22:35:30.6390 UT\n",
      "1923-11-04 00:00:00+00:00  221.611372  214.192503  235.794912  191.805349  236.485964  206.241986  Start  A.D. 1923-Nov-03 05:47:35.9186 UT                                NaN\n",
      "1923-11-05 00:00:00+00:00  222.613951  215.843142  237.043923  192.444419  236.704328  206.360817    End                                NaN  A.D. 1923-Nov-05 15:45:36.1877 UT\n",
      "1959-12-29 00:00:00+00:00  277.080369  261.081501  235.368080  258.685771  258.644385  279.666386  Start  A.D. 1959-Dec-28 08:14:32.2582 UT                                NaN\n",
      "1960-01-28 00:00:00+00:00  307.635133  308.583196  271.539847  280.811038  264.914923  283.146441    End                                NaN  A.D. 1960-Jan-28 20:55:16.6469 UT\n",
      "1961-12-25 00:00:00+00:00  273.496453  278.441986  265.501518  270.733125  309.469541  299.428922  Start  A.D. 1961-Dec-24 00:16:11.3275 UT                                NaN\n",
      "1962-03-04 00:00:00+00:00  343.470692  316.359140  352.097505  323.998023  325.570808  307.357103    End                                NaN  A.D. 1962-Mar-04 05:26:42.6405 UT\n",
      "2000-04-15 00:00:00+00:00   25.336869    3.066948   10.150003   46.664470   42.398290   47.170437  Start  A.D. 2000-Apr-14 09:01:02.5707 UT                                NaN\n",
      "2000-06-05 00:00:00+00:00   74.645967   98.024742   72.894714   82.226815   54.423718   53.639825    End                                NaN  A.D. 2000-Jun-05 13:35:33.3806 UT\n",
      "2002-05-21 00:00:00+00:00   59.757389   68.946143   90.503409   85.030685  104.402367   75.922427  Start  A.D. 2002-May-20 12:59:01.2468 UT                                NaN\n",
      "2002-06-03 00:00:00+00:00   72.233413   62.437558  106.004213   93.600619  106.953276   77.590954    End                                NaN  A.D. 2002-Jun-03 20:59:57.0202 UT\n",
      "2038-08-12 00:00:00+00:00  138.890634  126.837138  121.072272  165.112989  132.377532  165.192745  Start  A.D. 2038-Aug-11 04:55:45.1508 UT                                NaN\n",
      "2038-09-09 00:00:00+00:00  165.907902  159.050607  155.563495  182.989299  138.392323  168.612972    End                                NaN  A.D. 2038-Sep-09 21:57:22.2200 UT\n",
      "2040-08-17 00:00:00+00:00  144.154398  148.053792  165.357861  181.006128  181.493682  188.561720  Start  A.D. 2040-Aug-16 07:30:24.7767 UT                                NaN\n",
      "2040-10-16 00:00:00+00:00  202.681130  214.171790  238.400221  220.685721  194.069941  195.508586    End                                NaN  A.D. 2040-Oct-16 16:13:30.2497 UT\n",
      "2042-10-21 00:00:00+00:00  207.137110  198.118391  204.363616  237.636541  242.583522  217.387532  Start  A.D. 2042-Oct-20 15:30:42.5559 UT                                NaN\n",
      "2042-10-30 00:00:00+00:00  216.103568  213.344203  199.597618  244.088281  244.432772  218.466430    End                                NaN  A.D. 2042-Oct-30 06:27:46.4096 UT\n",
      "2058-03-23 00:00:00+00:00    1.801418    1.884612   22.362814  349.053121    0.102294   33.721468  Start  A.D. 2058-Mar-22 12:07:14.3101 UT                                NaN\n",
      "2058-04-05 00:00:00+00:00   14.658750  354.155616   38.353267  359.226155    3.237877   35.272474    End                                NaN  A.D. 2058-Apr-05 15:19:03.5799 UT\n",
      "2060-04-20 00:00:00+00:00   29.846139   22.823363   67.679596   26.797713   62.466686   61.298289  Start  A.D. 2060-Apr-19 21:51:14.7728 UT                                NaN\n",
      "2060-07-20 00:00:00+00:00  117.228813   98.219510   72.241700   91.855991   83.077008   72.490976    End                                NaN  A.D. 2060-Jul-20 02:47:42.7832 UT\n",
      "2062-07-15 00:00:00+00:00  111.974612  119.695618   88.626925  101.246022  132.950360   96.660232  Start  A.D. 2062-Jul-14 07:43:42.3628 UT                                NaN\n",
      "2062-07-27 00:00:00+00:00  123.425574  142.122313  103.186618  109.171482  135.527057   98.156234    End                                NaN  A.D. 2062-Jul-27 15:54:04.2025 UT\n",
      "2098-08-28 00:00:00+00:00  153.924561  148.274578  192.659702  156.402062  152.388356  179.673323  Start  A.D. 2098-Aug-27 14:18:33.5847 UT                                NaN\n",
      "2098-09-29 00:00:00+00:00  185.060708  204.051905  190.335127  176.853176  159.227921  183.553836    End                                NaN  A.D. 2098-Sep-29 03:20:39.7654 UT\n",
      "2100-10-13 00:00:00+00:00  198.347081  190.733875  165.054194  197.785134  209.184146  206.935107  Start  A.D. 2100-Oct-12 03:00:11.3298 UT                                NaN\n",
      "2100-12-06 00:00:00+00:00  252.506796  256.773254  231.797035  234.333051  220.742548  213.212243    End                                NaN  A.D. 2100-Dec-06 23:36:21.1050 UT\n"
     ]
    }
   ],
   "source": [
    "print(df.loc[df['label'] != '', planet_names_of_interest + ['label', 'start_time', 'end_time']])"
   ]
  },
  {
   "cell_type": "code",
   "execution_count": 17,
   "metadata": {},
   "outputs": [],
   "source": [
    "df"
   ]
  },
  {
   "cell_type": "code",
   "execution_count": null,
   "metadata": {},
   "outputs": [],
   "source": []
  }
 ],
 "metadata": {
  "kernelspec": {
   "display_name": "Python 3",
   "language": "python",
   "name": "python3"
  },
  "language_info": {
   "codemirror_mode": {
    "name": "ipython",
    "version": 3
   },
   "file_extension": ".py",
   "mimetype": "text/x-python",
   "name": "python",
   "nbconvert_exporter": "python",
   "pygments_lexer": "ipython3",
   "version": "3.7.3"
  }
 },
 "nbformat": 4,
 "nbformat_minor": 4
}
